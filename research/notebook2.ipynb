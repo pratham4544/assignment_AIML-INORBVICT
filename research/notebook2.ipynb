{
 "cells": [
  {
   "cell_type": "code",
   "execution_count": 1,
   "id": "5c53fefc",
   "metadata": {},
   "outputs": [
    {
     "name": "stdout",
     "output_type": "stream",
     "text": [
      "Hello World\n"
     ]
    }
   ],
   "source": [
    "print('Hello World')"
   ]
  },
  {
   "cell_type": "code",
   "execution_count": 21,
   "id": "0db4f9f2",
   "metadata": {},
   "outputs": [],
   "source": [
    "from pydantic import BaseModel, Field, EmailStr, constr, conint, confloat, computed_field\n",
    "from typing import Literal, Dict"
   ]
  },
  {
   "cell_type": "code",
   "execution_count": 7,
   "id": "814a72b8",
   "metadata": {},
   "outputs": [],
   "source": [
    "class PatientDetails(BaseModel):\n",
    "    name: constr(min_length=2)\n",
    "    age: conint(ge=1,le=120)\n",
    "    mobile:constr(min_length=10,max_length=10)\n",
    "    email:EmailStr\n",
    "    blood_group:Literal['A', \"A-\", \"B+\", \"B-\", \"AB+\", \"AB-\", \"O+\", \"O-\"]\n",
    "    height:confloat(gt=0)\n",
    "    weight:confloat(gt=0)\n",
    "    \n",
    "    @computed_field\n",
    "    @property\n",
    "    def bmi(self)-> float:\n",
    "        bmi = round(self.weight/(self.height**2),2)\n",
    "        return bmi\n",
    "    @computed_field\n",
    "    @property\n",
    "    def verdict(self)->str:\n",
    "        if self.bmi < 18.5:\n",
    "            return \"UnderWeight\"\n",
    "        elif self.bmi < 25:\n",
    "            return \"Normal\"\n",
    "        elif self.bmi < 30:\n",
    "            return \"Overweight\"\n",
    "        else:\n",
    "            return \"Obese\""
   ]
  },
  {
   "cell_type": "code",
   "execution_count": null,
   "id": "0016cf3a",
   "metadata": {},
   "outputs": [],
   "source": [
    "def chatbot_flow():\n",
    "    print(\"👋 Welcome to Health Check Chatbot!\")\n",
    "    try:\n",
    "        data = {\n",
    "            \"name\": input(\"Enter your name: \"),\n",
    "            \"age\": int(input(\"Enter your age: \")),\n",
    "            \"mobile\": input(\"Enter your mobile number: \"),\n",
    "            \"email\": input(\"Enter your email: \"),\n",
    "            \"blood_group\": input(\"Enter your blood group (e.g., A+, O-, etc.): \"),\n",
    "            \"height\": float(input(\"Enter your height (in meters): \")),\n",
    "            \"weight\": float(input(\"Enter your weight (in kg): \")),\n",
    "        }\n",
    "\n",
    "        user = PatientDetails(**data)\n",
    "        \n",
    "        print(f\"\\n✅ Thank you {user.name}!\")\n",
    "        print(f\"\\n✅ Thank you {user.bmi}!\")\n",
    "        print(f\"\\n✅ Thank you {user.verdict}!\")\n",
    "\n",
    "    except Exception as e:\n",
    "        print(\"❌ Error:\", e)"
   ]
  },
  {
   "cell_type": "code",
   "execution_count": 15,
   "id": "0871aec5",
   "metadata": {},
   "outputs": [
    {
     "name": "stdout",
     "output_type": "stream",
     "text": [
      "👋 Welcome to Health Check Chatbot!\n",
      "❌ Error: 'FieldInfo' object has no attribute 'validate'\n"
     ]
    }
   ],
   "source": [
    "chatbot_flow()"
   ]
  },
  {
   "cell_type": "code",
   "execution_count": null,
   "id": "9484efe3",
   "metadata": {},
   "outputs": [],
   "source": []
  }
 ],
 "metadata": {
  "kernelspec": {
   "display_name": "chatbot (3.13.5)",
   "language": "python",
   "name": "python3"
  },
  "language_info": {
   "codemirror_mode": {
    "name": "ipython",
    "version": 3
   },
   "file_extension": ".py",
   "mimetype": "text/x-python",
   "name": "python",
   "nbconvert_exporter": "python",
   "pygments_lexer": "ipython3",
   "version": "3.13.5"
  }
 },
 "nbformat": 4,
 "nbformat_minor": 5
}
