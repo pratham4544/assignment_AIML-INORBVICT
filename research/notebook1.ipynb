{
 "cells": [
  {
   "cell_type": "code",
   "execution_count": 1,
   "id": "fd04b372",
   "metadata": {},
   "outputs": [
    {
     "name": "stdout",
     "output_type": "stream",
     "text": [
      "Hello World\n"
     ]
    }
   ],
   "source": [
    "print('Hello World')\n",
    "import warnings\n",
    "warnings.filterwarnings('ignore')"
   ]
  },
  {
   "cell_type": "code",
   "execution_count": 2,
   "id": "e25c8a9c",
   "metadata": {},
   "outputs": [
    {
     "name": "stdout",
     "output_type": "stream",
     "text": [
      "\n",
      "\u001b[1m[\u001b[0m\u001b[34;49mnotice\u001b[0m\u001b[1;39;49m]\u001b[0m\u001b[39;49m A new release of pip is available: \u001b[0m\u001b[31;49m25.1.1\u001b[0m\u001b[39;49m -> \u001b[0m\u001b[32;49m25.2\u001b[0m\n",
      "\u001b[1m[\u001b[0m\u001b[34;49mnotice\u001b[0m\u001b[1;39;49m]\u001b[0m\u001b[39;49m To update, run: \u001b[0m\u001b[32;49mpip install --upgrade pip\u001b[0m\n"
     ]
    }
   ],
   "source": [
    "!pip install unstructured[pdf] -q"
   ]
  },
  {
   "cell_type": "code",
   "execution_count": 3,
   "id": "3160806d",
   "metadata": {},
   "outputs": [
    {
     "name": "stdout",
     "output_type": "stream",
     "text": [
      "/home/pratham/Desktop/assignment_AIML-INORBVICT\n"
     ]
    },
    {
     "data": {
      "text/plain": [
       "'/home/pratham/Desktop/assignment_AIML-INORBVICT'"
      ]
     },
     "execution_count": 3,
     "metadata": {},
     "output_type": "execute_result"
    }
   ],
   "source": [
    "%pwd\n",
    "%cd ..\n",
    "%pwd"
   ]
  },
  {
   "cell_type": "code",
   "execution_count": 4,
   "id": "2a313fd1",
   "metadata": {},
   "outputs": [
    {
     "name": "stdout",
     "output_type": "stream",
     "text": [
      "['documents/Managing Diabetes - NIDDK.pdf', 'documents/Diabetes Tests & Diagnosis - NIDDK.pdf', 'documents/Insulin, Medicines, & Other Diabetes Treatments - NIDDK.pdf', 'documents/Symptoms & Causes of Diabetes - NIDDK.pdf', 'documents/Risk Factors for Type 2 Diabetes - NIDDK.pdf', 'documents/Preventing Type 2 Diabetes - NIDDK.pdf', 'documents/Clinical Trials for Diabetes - NIDDK.pdf', 'documents/Diabetes Infographics_0.pdf', 'documents/What Is Diabetes_ - NIDDK.pdf', 'documents/Healthy Living with Diabetes - NIDDK.pdf', 'documents/Preventing Diabetes Problems - NIDDK.pdf', 'documents/Diabetes_ What It Is, Causes, Symptoms, Treatment & Types.pdf']\n"
     ]
    }
   ],
   "source": [
    "import os\n",
    "documents_folder = \"documents\"\n",
    "document_paths = []\n",
    "\n",
    "for root, dirs, files in os.walk(documents_folder):\n",
    "    for file in files:\n",
    "        document_paths.append(os.path.join(root, file))\n",
    "\n",
    "print(document_paths)"
   ]
  },
  {
   "cell_type": "code",
   "execution_count": 5,
   "id": "4aeffc87",
   "metadata": {},
   "outputs": [
    {
     "name": "stderr",
     "output_type": "stream",
     "text": [
      "INFO: pikepdf C++ to Python logger bridge initialized\n",
      "WARNING: Cannot set gray stroke color because /'P89' is an invalid float value\n",
      "WARNING: Cannot set gray non-stroke color because /'P89' is an invalid float value\n"
     ]
    },
    {
     "name": "stdout",
     "output_type": "stream",
     "text": [
      "Warning: No languages specified, defaulting to English.\n",
      "Warning: No languages specified, defaulting to English.\n"
     ]
    },
    {
     "name": "stderr",
     "output_type": "stream",
     "text": [
      "WARNING: Cannot set gray stroke color because /'P60' is an invalid float value\n",
      "WARNING: Cannot set gray non-stroke color because /'P60' is an invalid float value\n",
      "WARNING: Cannot set gray stroke color because /'P62' is an invalid float value\n",
      "WARNING: Cannot set gray non-stroke color because /'P62' is an invalid float value\n"
     ]
    },
    {
     "name": "stdout",
     "output_type": "stream",
     "text": [
      "Warning: No languages specified, defaulting to English.\n"
     ]
    },
    {
     "name": "stderr",
     "output_type": "stream",
     "text": [
      "WARNING: Cannot set gray stroke color because /'P107' is an invalid float value\n",
      "WARNING: Cannot set gray non-stroke color because /'P107' is an invalid float value\n"
     ]
    },
    {
     "name": "stdout",
     "output_type": "stream",
     "text": [
      "Warning: No languages specified, defaulting to English.\n"
     ]
    },
    {
     "name": "stderr",
     "output_type": "stream",
     "text": [
      "WARNING: Cannot set gray stroke color because /'P35' is an invalid float value\n",
      "WARNING: Cannot set gray non-stroke color because /'P35' is an invalid float value\n",
      "WARNING: Could get FontBBox from font descriptor because None cannot be parsed as 4 floats\n",
      "WARNING: Could get FontBBox from font descriptor because None cannot be parsed as 4 floats\n",
      "WARNING: Could get FontBBox from font descriptor because None cannot be parsed as 4 floats\n",
      "WARNING: Could get FontBBox from font descriptor because None cannot be parsed as 4 floats\n",
      "WARNING: Could get FontBBox from font descriptor because None cannot be parsed as 4 floats\n",
      "WARNING: Could get FontBBox from font descriptor because None cannot be parsed as 4 floats\n",
      "WARNING: Could get FontBBox from font descriptor because None cannot be parsed as 4 floats\n",
      "WARNING: Could get FontBBox from font descriptor because None cannot be parsed as 4 floats\n",
      "WARNING: Could get FontBBox from font descriptor because None cannot be parsed as 4 floats\n"
     ]
    },
    {
     "name": "stdout",
     "output_type": "stream",
     "text": [
      "Warning: No languages specified, defaulting to English.\n"
     ]
    },
    {
     "name": "stderr",
     "output_type": "stream",
     "text": [
      "WARNING: Could get FontBBox from font descriptor because None cannot be parsed as 4 floats\n",
      "WARNING: Could get FontBBox from font descriptor because None cannot be parsed as 4 floats\n",
      "WARNING: Could get FontBBox from font descriptor because None cannot be parsed as 4 floats\n",
      "WARNING: Could get FontBBox from font descriptor because None cannot be parsed as 4 floats\n"
     ]
    },
    {
     "name": "stdout",
     "output_type": "stream",
     "text": [
      "Warning: No languages specified, defaulting to English.\n",
      "Warning: No languages specified, defaulting to English.\n",
      "Warning: No languages specified, defaulting to English.\n",
      "Warning: No languages specified, defaulting to English.\n",
      "Warning: No languages specified, defaulting to English.\n"
     ]
    },
    {
     "name": "stderr",
     "output_type": "stream",
     "text": [
      "WARNING: Could get FontBBox from font descriptor because None cannot be parsed as 4 floats\n",
      "WARNING: Could get FontBBox from font descriptor because None cannot be parsed as 4 floats\n",
      "WARNING: Could get FontBBox from font descriptor because None cannot be parsed as 4 floats\n",
      "WARNING: Could get FontBBox from font descriptor because None cannot be parsed as 4 floats\n",
      "WARNING: Could get FontBBox from font descriptor because None cannot be parsed as 4 floats\n",
      "WARNING: Could get FontBBox from font descriptor because None cannot be parsed as 4 floats\n",
      "WARNING: Could get FontBBox from font descriptor because None cannot be parsed as 4 floats\n",
      "WARNING: Could get FontBBox from font descriptor because None cannot be parsed as 4 floats\n",
      "WARNING: Cannot set gray stroke color because /'P30' is an invalid float value\n",
      "WARNING: Cannot set gray non-stroke color because /'P30' is an invalid float value\n",
      "WARNING: Cannot set gray stroke color because /'P35' is an invalid float value\n",
      "WARNING: Cannot set gray non-stroke color because /'P35' is an invalid float value\n"
     ]
    },
    {
     "name": "stdout",
     "output_type": "stream",
     "text": [
      "Warning: No languages specified, defaulting to English.\n"
     ]
    },
    {
     "name": "stderr",
     "output_type": "stream",
     "text": [
      "WARNING: Could get FontBBox from font descriptor because None cannot be parsed as 4 floats\n",
      "WARNING: Could get FontBBox from font descriptor because None cannot be parsed as 4 floats\n",
      "WARNING: Could get FontBBox from font descriptor because None cannot be parsed as 4 floats\n",
      "WARNING: Could get FontBBox from font descriptor because None cannot be parsed as 4 floats\n",
      "WARNING: Could get FontBBox from font descriptor because None cannot be parsed as 4 floats\n",
      "WARNING: Could get FontBBox from font descriptor because None cannot be parsed as 4 floats\n",
      "WARNING: Could get FontBBox from font descriptor because None cannot be parsed as 4 floats\n",
      "WARNING: Could get FontBBox from font descriptor because None cannot be parsed as 4 floats\n",
      "WARNING: Could get FontBBox from font descriptor because None cannot be parsed as 4 floats\n",
      "WARNING: Could get FontBBox from font descriptor because None cannot be parsed as 4 floats\n",
      "WARNING: Could get FontBBox from font descriptor because None cannot be parsed as 4 floats\n",
      "WARNING: Could get FontBBox from font descriptor because None cannot be parsed as 4 floats\n",
      "WARNING: Could get FontBBox from font descriptor because None cannot be parsed as 4 floats\n",
      "WARNING: Could get FontBBox from font descriptor because None cannot be parsed as 4 floats\n"
     ]
    },
    {
     "name": "stdout",
     "output_type": "stream",
     "text": [
      "Warning: No languages specified, defaulting to English.\n"
     ]
    },
    {
     "data": {
      "text/plain": [
       "[Document(metadata={'source': 'documents/Managing Diabetes - NIDDK.pdf', 'file_directory': 'documents', 'filename': 'Managing Diabetes - NIDDK.pdf', 'last_modified': '2025-10-01T16:31:32', 'page_number': 2, 'orig_elements': 'eJzVWG2L4zYQ/isinyOfLMkv2m+lR6GUHoVuKeV6LCNpnKjrl2A7m0uP/veO7GQvm0uPLpTQfNhNRprIGj0zzzPy+08LrLHBdnwIfnHHFrnWaV5Zw4UpkGtvLbc+L3iBRnjprTA+XyzZosERPIxAv/m0cF3X+9DCiMNk17DvtuPDGsNqPdJIqdPEpMaU9MPD3C74cU1TmdGJyYzJaWrThXaMK7x/L00ilyxPVaI/LNnRlCox0cwykZgL9uROA4thP4zYxHh+Ch+x/nkDDhd/0UQVanzwoUc3dv0+OvjObWP8w+Iw3UKDceJHaGEV2hV7G8AihcY4e/f927c/JBtfLaZIhvGh6XyoAk5nJ4XMeCq4SO/T/E6ld0pGvw2s8KHdNhZ78pJxGyN+jOeyoKPoma27zrNVvXXdgMuDuelxGLY92dB65tZdjRRS39WsxiesBxZaNq6R9dCuaGsUUNdQGB49s3s2rbtGqOmM4+P2mymkd9D3MIYnvI/Pp42co29QugxUwS0ozbUucm6gkJQM0pROAQjtroe+kkl6gr6WSR7Nkj6/NCfnW8LeQY9sRGiSU4juw1jjJWiURJmhrHipnOMadcGNrDz3mTKuEjRt5PWgycULaIpsLkSpVKIu2JP7LYHzbY90aAwORbRnDX2yTQ3tq+oJrJJae83RAIFmSgJN2YqnNvWooUSl7PVAMy/qqRCHAorsKb60Z/dbAu23bssa2LNd1/d7YkcY2Rqe4kP98aEEYzuwVRcHd2Fc0+Gxivh2iJTJsP2j2yfsnnh1FUm4xR0R7TAvRQ6vwj4rnU8LRSJqTUnYa8dLCZK7PLO51SWlhboa9kUqDhU5mzKdhTXTOikv2JP7LWHvoGXDGOqa4YxVzyp46vpAVTwBTMK6nSZYE8+SsCWpHLvJfWigrrFnm64fQ0cJ0vVzLkSJbUhxBxqqRmyTV2WAcKlGKTQ3LqcMqDSSmuaSFwBFrjJBgppeLwOUOO2lCn1IiIi4umBP7reUAb92/eNU06fdD3tW2SXbrYNbTwQRWldvfaT3Hlch9lWUCz7gGMZAeUTow2fKQL91QBEuKVteBb8uvfWFq7imxolr0MBNZj0JuC4pI6SUqbge/Nq8IP/MzGQvqYcWF+zJ/Zbgd0fFflbqmbZJDB4HooA+psXr6te41Kd03+Gl9SnXqaC+WIDnLstlDpUs8rK8HoBF+aJ+y3KuV01fsgv25H5LAN5D/bX6ZWCjWEO7p9tQpOvp3rM/SD7pPPF8aH3c5LFni7x/Cvh3XUelfrFPA5JmyASXLvZpSnkOqkTuoaqIw31WiGsg/YxdfoZtMUOvjZmK89ye/P93WNehfZzi+rQYRujprOl6+pEGxAnqv29RKIju276OA+tx3Ax3b97sdrukDd4/0v91suqe3vgwuBpCg/0wY/jfr/rh6yn6edljSv3SkjbgivqMP9H/E48okEJYmfO8kJRdmaVbgEHBc2fTzKSlFu4at4DnbCnPsqk8vkVJJ+U/t2+OSRL2DaMNRM3+d+WvlJGFpy5dCG25FlpzCq3kILy1lv50pq9H9KY4VepSFMdrmY4vOs7t2f2W4DnvuRz1XMtL/RZp9tDRbD2JOPXnkektabytMbbuzy+96NtAmuHwcFVzL6/pR+A//A1HRk5M', 'languages': ['eng'], 'filetype': 'application/pdf', 'category': 'CompositeElement', 'element_id': '421de1dc1067a9b148a9c554d1e65d69'}, page_content='your blood glucose, blood pressure, and cholesterol levels in the ranges recommended by your health care team. Create a healthy meal plan You may worry that having diabetes means going without foods you enjoy. The good news is that you can still eat your favorite foods, but you might need to eat smaller portions or enjoy them less often. Work with your health care team, which may include a registered dietitian or a diabetes educator, to create a meal plan that works for you. Talk with your health care team about any challenges you may have finding healthy food \\ue03a . A doctor, registered dietician, diabetes educator, or social worker may be able to recommend resources that can'),\n",
       " Document(metadata={'source': 'documents/Managing Diabetes - NIDDK.pdf', 'file_directory': 'documents', 'filename': 'Managing Diabetes - NIDDK.pdf', 'last_modified': '2025-10-01T16:31:32', 'page_number': 2, 'orig_elements': 'eJzlmF1v2zYUhv8K4etQ5reo3G0I9oFhRYG2V10R8OPQJipLhiTH9Yr99x3Jdus0bpYBg5FgN0Ze8kgi+Rwevsz7zzOoYQXNcJvj7JrMopdMKmeojKWhKspInQiJlpXj3CvwHtLsisxWMLjoBofPfJ6Ftu1ibtwA/aRrt2s3w+0S8mI5YItVvKh4VVl88NC3zXFYYpeuVFHpqjLYtW5zM4xveP9eqIJdEcttUX24IkcpzF5Kwwt5Rk/h2DDrd/0Aq3E+r/MnqN+sXYDZX9iRcg23MXcQhrbbTRNuw2acfz87dDduBWPH765xi9wsyE12HnBqhJJXv97c/Fas47QEteuH21Ubc8owrZ1gQlPOKONvubmW/FqKMW7tFnDbbFYeOowS4zAG+DSuy2w5DOv+ej7fbrdFk2P8iL/LYtHezZfg6mFJc5PabuWG3DbzeBjHvL2D7i7Ddr46DJEeu8bPDbv1NP6f2nbAL+LnvmXsk4xJS0mlcYkqbTm1rFIUSiaZsCxJV12AsdayECeQj/pIVZf8rH5xlMWc86eRAc10MIlRa52lChj+5QSnzAijlEjIBy62+7gp1NfNh7+TquwI4b6aIp85EXlKRLI5q+bjczgVfs2rUzy/gIvn8SRruZHC0TLGSFXQllqOtKTDoontwYpLbByBzeKEz14ekSimz8gXh+i733gaKpGU9NYwChEcVSJijeNM0QDMsIqb4H15EVTj4ktZmD2pUSlV8IkMFrbygZxiXxKoJdRrgmtRkLdLIO+KNwW5gbXrhnFEpE3kh0WXw6YeNh0QV/ctWXftXY44GEfq3E8xHfTtpgv3T7Dv0+XR+Ri8o1wrpOslR5eiKurRtYjKgw88XIDuEZkoxClQUZSTlOWE+76cgp8d3zo3H6c5fZ71A7K7zU2ET9jATkj/sQEm3Ri+6erH7UvMfahdXkHX7/n992/98Hhafn3tP6dT5EIBRHS5ulRUscBolYyiKdrES8ulg0sUi2OGHKrFMX8O9UEbMZrcb+SLKxfO40oQl9K0eguyN7q7Jx7A2sTkdUm9dxKresIDOKSKCikU48FLry9zAI9gtDiev6NCHPu7CDOFfiCn2JeEKbVtJK6JJOGe3XPCMp+6dkX2XX2Ppds1AcZyvujcqi+extBra2SKmlZg8PYRRYUns0404kqgxXfJO3UxhpadMqzMfm9xbK4eyCn2JTH8GQayXu76HFxNXBjyXR7ubbS3eajhHCPjhYmcOZpcDFSVPFEXtKCVNclo5hnwi9xDJiqcyz2HgxSH+qj1eT2FvyROr79lRFZuR46+itTtFjri63HbLepNaHu4Osg1+qYefdXVtFXDsq0Bp9y1NanhDuq+ID/COPjpxXCK/pXrOjc2vh0HcSYFWKxSSgBUG8+osiW6Kw4VDbEMpVESSn+5bcolP/wjaC/VofSOh6A+o6fwl5QCI/DJG3+hvsDNi19DmqSvAdYT4bwavTOMAR1ZYQag6e52ZGincDcgdhwL4ZqRVW4241jRXOPQAGED/VcJACY4a6KlVelLrNOlo9bivLzhVqQAkUd+gQQo7WhzuKr2HvsgcatPptrawj6UU/Czw/9/8NjvmoDsF22X/4T4vcyKxkru0bYFyQXe3tAB+FgZ6jgHnYRIPLnLlRbNTi/n3PLDdRwzjZ/RU/izy61HIOF8oenHU6UfOmgWwxKaL2dCHjL0V6TfhCVaOrJ1dU3Wm35JN2ssHVh6ABcc3V63Ip3L/Rg7bFsS3W68vW8BPhbqkary4W9QCUvn', 'languages': ['eng'], 'filetype': 'application/pdf', 'category': 'CompositeElement', 'element_id': 'ef45a3d177855b5a939b0536a96e8e39'}, page_content='https://www.niddk.nih.gov/health-information/diabetes/overview/managing-diabetes 2/11 30/09/2025, 21:19 Managing Diabetes - NIDDK help you. The U.S. Department of Agriculture also provides a list of resources \\ue03a about affording healthy food and finding help from food assistance programs. Get physical activity Physical activity may help you lower blood glucose, blood pressure, and cholesterol levels. Being active may also help you get better sleep and improve your mood. Try to get at least 150 minutes of moderate- \\ue03a intensity strengthening activities, such as wall push-ups or seated arm raises, two days a week.4'),\n",
       " Document(metadata={'source': 'documents/Managing Diabetes - NIDDK.pdf', 'file_directory': 'documents', 'filename': 'Managing Diabetes - NIDDK.pdf', 'last_modified': '2025-10-01T16:31:32', 'page_number': 3, 'orig_elements': 'eJzVlk1r5DgQhv+K8LllrA9LVq4bWIZlhmU3l2UYgiyV2ia21djqZJph//uW7B42k/Qll4YmdKCkslTSU2+Vvv4oYIARpvTY++KOFI2rvFVBUN9WgcrgatoIBpTrxrWgGyWCKnakGCFZb5PFb34ULsbZ95NNsKz2YE/xmB476PddwpFGstIwYxr88Dz30vvU4VRtZGlqYxROHWI/pbzC169NU6Izq6tSfduRn6ZiJctmXfFSX7BXdxwoltOSYMzn+bP/DsPfB+ug+BcnQj/Ao+9ncCnOp+zgozvm8y/FeXqyI+SJz3ay+37ak/vetoBHI5R8+XR//0d58KFYT7KkxzH6PvSw3h2veE1ZRSv2wNSdYHeCZ7+D3cPjdBxbmNFL5DASfM/3Uhy609I7OxDrUv/cp9OOLEfXEbuQdu6XJ/JihyeMYUfA4vALwFNJPgWCV0icnXYkzSeSIvGRjMfFDUDzhul0WE/wxc6zxXXhIW+H+76FDVqIwCugnvEKYbcOYQegrtF1EN5L6dsrwOam5EjPNKXJNDeTM7mxF6zK8N/am/stwf5rZWgnT0aLZ8cfsaQDO6TuhGjX6/sIPe2hAltLKr2ySK+ytIFG0Zpr713DOTT8avS4qH6hh8vIVZo1L8UFe3W/JXpn1dkZSHyGeeNF4kw6+4xDLSyrfC2KFv3mM1hUKX6QwI6kiy8/dYsJgAHD5ritVJKH+CH6Sleubr2ghgtBpcR/VtmWukrinxFKtHA9+lh55Sv66pwMNa6nL9ir+y3RH+ICZ1K7leJoT2QC8Ln6ujgtGBoJ8AIz8h3i3GMUmBt7SGSMmAHvCn1J/nmTJR+iXwfbOq1qGhxk+o5T47mgWjtmW+2VMOZ69JXZ+vDZ1Gar1BLt+oK9ut8S/VW/mbgdlkgwqjhiLFjHwfeunzbWy3Hew9aOOxgOlzT+IcReMSWtwZZca0ZlWzFqJDPU1y3nQQXFdH09xEa/RiwY3wSdn2Dqvb253xLi31GpMMXjviPLAHB4jeqhTwNcRGRyBeaaaqk8lcoK2mhnqOPeVha80+Z6NVjwX1Qo6rPqaqVyx31n81tTISJKeYvXmFZV9uNhxp68SW2M0eNzeYJ5fyIDPMOwW99c7YATZD8cXS7l60RJPsclEeuPQ1rI0sXj4IntRxJQzrbFmyc6y7nB3n2cl+0NPq1KrslvXT/4GaZ1cevjAIvLN/N/Z1gL/xrlx4QPksk2sEC1bxyVvNW0Da2hUlQiuEp5GfT1skrr151dGHFOMs1yLX9nr+63lFUP9gm2V1oM5wzCULBTb635Qh349h8+CZim', 'languages': ['eng'], 'filetype': 'application/pdf', 'category': 'CompositeElement', 'element_id': '7c61da84e5536c8e521b8c2a6829e043'}, page_content='physical activity, such as brisk walking, each week. If you can, try to do muscle- Reach and maintain a healthy weight If you are overweight or have obesity, ask your health care team how you can manage your weight. To lose weight, you may need to consume fewer calories or get more physical activity. Your health care team may also recommend medicines or surgery to help manage your weight. Get enough sleep Getting enough sleep may improve your mood, energy level, and blood glucose level. Most adults should aim for about 7 to 8 hours each night.5 Children and adolescents may need more sleep. Take care of your mental health'),\n",
       " Document(metadata={'source': 'documents/Managing Diabetes - NIDDK.pdf', 'file_directory': 'documents', 'filename': 'Managing Diabetes - NIDDK.pdf', 'last_modified': '2025-10-01T16:31:32', 'page_number': 3, 'orig_elements': 'eJzVmduO2zYQhl+F8PVS5vmwNwWKIGjQNijQLXqRBgtSHNnCypIhaddxg757h/Ih3o1TZHthwDeCf3FkUfw0nJ/Uh88zaGAF7Xhfp9ktmUVlShFkpEFXlirJAw2qkjSUwFVpuQSmZzdktoIxpDAGvObzrOy6PtVtGGGYdBO23eN4v4R6sRzxjFO88Nx7hxfu2zZ1GpfYpL0qvPbeYNO6q9sx/8OHD8IX4oYozgr+8YYcpGCFyVJrWagzegrHE7NhO4ywys/zW/0Jmt/X2P3ZP9hQ1Q3cp7qHcuz6bQ5IXfmYn3+Y7ZvbsILc8Gtow6JuF+RNHSLgoxFK3r978+bnYp2q2fQkw3i/6lJd1TCNnWBCU84o43fc3Ep+K0WOW4cF3LePqwg9RsncjRE+5XGZvQVo8i2GsYdhgHRDhoCHriehXfRbUoaWRCBlt1p1Lanw/Bq6dQNkU49LkvYdKwj2dfusqVz2XVuX+a9yF8btenqm96Hvw1g/wV3uAPbkJX7pZUxCc2o9i1Sx6GlIsqQQhZFKBOMkuxx+4Qp/gl/6QmWpnCrsGT2FXxP+pmsXdIR+dUPqpmnzKzCQ4bFckjAc6ZIET9B0a3wlPtUwbvPb0Y1L6Enud2jIEkKTkXdtqse6a4fXEY+WieQFVVVA4iIK6kxUNHoWrLHRWaYuQPzI0L5gbHevgMbcFmf0FH9NzP96BCbjKaI/2hIHctH19d+QvoUphRiVSp4yK4EqLRR1MUoKTnsnvA9RuAtgOg67e4Fln4pa6UKf0VeXmgX5BULfnnK6q8cGzrJxlQqh1NSBM1TxxKg3wlNrjTIOpCrjBWumsruiuJfa7Usok4U7o6fwayKzm+62ZBO2Axk70nQbnAtxgPp9GX3d9OeiLQPX1CMqqiwz1FXodwxzjlnHeWUukVdHGqYQz2iZwk4aacozeoq/Jnr/c/qrIKroPbqRKk9/igP1miuqfRAlqyS+1hfxJYdhP+TYAcs+qTT+OKevLslu0G0kdCEPk+lcQrMmVd+tdml2MByhBzJCWE1+9bkbeVUOpsg0eGmxmEWEWymHOSgqyrWvsNJxg67kcvOnMbvStZfW7CqdN4X5Wk7B1wR23XcVzpFoE0NTfF91874CGSPWNIUukftEnZWBci9xjJ0yHPwl6KiC3RDHD0uCnRR7HNLwnGhfaX5tvmM5juvhdj7fbDZFW6f0gMdlseie5rvEonWLGbkK2ejPD0uEefcE/VMNm/lq30V6aDpF/LbrcLFxjnGprKgMQ+vvnaLK4dov2pQoSJNKHbSt5CUY53W8OIF80Aeq2vKz+uooyznn30kGPSRoz6mxLFGFVJCMqvLyrJLS+YCl8GLZxw9T46TwOCnvMoTnil/BvKieEWFz5uf5OnwUfsv9KZ6fIKTzeHzwxoNO1Dsko2Ry1CfmcSWAxUsYnBvlZay/Oo76VLrUKRLF9Bl5dYi+eY/vQ8WBlUK5QGXSEV0G+sgYDSYW44xLCYbbS6CSKi+IpdeFnArVJDMSN0khzuld+DXB+hHyDdbL7VCXoWm2JJTZAk47mpOdxLEiU7WCnak8bma+cvnGuQ2ppDGFEguXwV+BW2pTWYL1AMZeYvfqy36lPbGOyu0Wc5keP6On8GuC+ucyjCSzGUhXoeFPdVm3ecty2T02ibwjY3iAH14FUHtZ2egq6qLiVAVMTZe8oiayCpJ3rkzpgt5fPfveYNXh+4Lemf8Xegq/JoB34SHf4bi1/AVhnZGO0JJ16MeJ7qE7X74y3C3h5IqcwJk3SbAGXCx27ZTI/0H/47/QfNY7', 'languages': ['eng'], 'filetype': 'application/pdf', 'category': 'CompositeElement', 'element_id': '8fadf79d2a343af24a53e9f5d6dd1cd3'}, page_content='Feeling stressed, sad, or angry can be common for people with diabetes. Many people with chronic, or long-term, illnesses such as diabetes develop anxiety or other mental health conditions \\ue03b . Learn healthy ways to lower your stress \\ue03b , and ask for help from your health care team or a mental health professional. https://www.niddk.nih.gov/health-information/diabetes/overview/managing-diabetes 3/11 30/09/2025, 21:19 Managing Diabetes - NIDDK Being physically active can help you manage your diabetes. What types of medicines should I take? Taking diabetes medicines is often part of managing diabetes. The medicines you take depend on your'),\n",
       " Document(metadata={'source': 'documents/Managing Diabetes - NIDDK.pdf', 'file_directory': 'documents', 'filename': 'Managing Diabetes - NIDDK.pdf', 'last_modified': '2025-10-01T16:31:32', 'page_number': 4, 'orig_elements': 'eJzVVktv4zYQ/iuEzqYgSiQl5lYgl6LotkBzKbaLgI+hRUQWDYl21lj0v3coK5ts1ofmYsDH0QzFIb/H8PO3AgbYwZgegyvuSCFl1+nOGOqV95TLVlPjPadCOu8bYV3nq2JDih0k7XTSuOZbYWOcXBh1gnmJB32Kh/TYQ9j2Cb90nJWKKdXhwjX3HFzqMSUUL5VQSmJqH8OY8h8+f65VWW8I7+pSfdmQl1A1Jc+hELKsLsRLOX4o5tOcYJfP82f4CsNfe22h+BcTPgzw6MIENsXplAtctId8/rlY06PeQU78rke9DeOW3AdtAI9GKPn06/39b+Xe+WI5yZwed9EFH2C5u7qqBWUVrdgDk3cNu2vqXLfXW3gcDzsDE1bx3EaCr/leinTaA4meuHWLDenjM3mGYSA7cMGGEbe1cUxTHAje20TMEKMj2+Fg4wxkgCMMG6JHR2LqYSI96CH1eYkLKcRxzqtyE3mnvOMnPU06hSM85Bawl/cE6OpKdUxVFLwBytvGUN1aRa1RzHnZABPd1QggKlbKVwIIVpdsAbyRpboQL+W3RICdPpFeH6Ekf8cDyZEe5khGAPeGASkisMMe89gRrBzYTzDPhwn5MxHbxwHwxJkmCyfmkvyRCfEh6OuKM2WloEI51D73ihrpOrQCp6zw2jLurgd9XZ3FvYZNdbYC0bCyuxAv5bcEPd4n9jGT+WB7oufvcKN454ROEEZEV482fzjChD/akOc+kjAj9PEYXO5v8YQX9yBWT3B2g/z9Q9hL6SovoKPGtoxyx4AqbxitG+OVFJUR1RVl36izrteQq9UFuqpsLsRL+S1hPwSPcj0NiK0ez5LX3mNziLBOb5SPd0aSfoLyQ2Aqw603uqFCty3lukIhe+loWzEJzKgWQF4PTPkjmO0KnhBqAe99LG8NzAfE5yzEV9xQz2i/JxzlaNDZqe0UDLgNQXMeSfALsB5gINvs5WjheQqQCbTtwV0Y9ZuPqbl1FQOraaUlRyfnnBrnNHUCLRz36Dhvr0eArn37ihOqW19tsirZhXgpvyUC/DiPN+8H8jbqPI9/OcbgSMYtjt+t+5UxuGh+Cvt9TqHif674EAF4bVqF/ELElUQHcDVVkivKfF0rx8G0xl+NALKSb19xkrXrq020pbgQL+W3RIBVz4uE8al+MGjse33Ku3rEFZ1gV5IHPTyR54Cv8wXXl5c6jmySQO9eTAEHwj+HumIq5ZGAgPx/Gnz5D2kSOi8=', 'languages': ['eng'], 'filetype': 'application/pdf', 'category': 'CompositeElement', 'element_id': 'a58ba4b04d240d051b44e65770167835'}, page_content='type of diabetes, how well medicines control your blood glucose level, and other health conditions you may have. You may also need medicines to help manage blood pressure or cholesterol levels. Other factors such as medicine costs, insurance coverage, who is providing your diabetes care, and your lifestyle can also affect what medicines you take. Take your medicines as they were prescribed, even if you feel good or have reached your blood glucose, blood pressure, or cholesterol goals. Avoid rationing your medicines or skipping taking your medicines if you have trouble paying for them. Talk with your health care team if you can’t afford your medicines')]"
      ]
     },
     "execution_count": 5,
     "metadata": {},
     "output_type": "execute_result"
    }
   ],
   "source": [
    "from langchain_unstructured import UnstructuredLoader\n",
    "from unstructured.cleaners.core import clean_extra_whitespace\n",
    "\n",
    "loader = UnstructuredLoader(document_paths,\n",
    "                            post_processors=[clean_extra_whitespace],\n",
    "                            chunking_strategy=\"basic\",\n",
    "                            max_characters=700,\n",
    "                            chunk_overlap=200)\n",
    "\n",
    "docs = loader.load_and_split()\n",
    "\n",
    "docs[5:10]"
   ]
  },
  {
   "cell_type": "markdown",
   "id": "1d1cf847",
   "metadata": {},
   "source": [
    "### diabetes history --> (10000) --> 200 + 500 + 200 + 300 --> adjustent combine docuemnets"
   ]
  },
  {
   "cell_type": "code",
   "execution_count": 6,
   "id": "db2bbaf3",
   "metadata": {},
   "outputs": [
    {
     "data": {
      "text/plain": [
       "220"
      ]
     },
     "execution_count": 6,
     "metadata": {},
     "output_type": "execute_result"
    }
   ],
   "source": [
    "len(docs)"
   ]
  },
  {
   "cell_type": "code",
   "execution_count": 7,
   "id": "ed123a14",
   "metadata": {},
   "outputs": [
    {
     "name": "stdout",
     "output_type": "stream",
     "text": [
      "30/09/2025, 21:19 Managing Diabetes - NIDDK Managing Diabetes On this page: What are the diabetes ABCs? How can a healthy lifestyle help manage my diabetes? What types of medicines should I take? How can I check my blood glucose level at home? How can I keep track of my progress? What special situations should I plan for? Who should be on my health care team? Clinical Trials for Managing Diabetes Diabetes can affect almost every part of your body, including your heart, eyes, kidneys, and nerves. Diabetes is also linked to some types of cancer. You may be able to prevent or delay diabetes health\n"
     ]
    }
   ],
   "source": [
    "print(docs[0].page_content)"
   ]
  },
  {
   "cell_type": "code",
   "execution_count": 8,
   "id": "8aab40ca",
   "metadata": {},
   "outputs": [
    {
     "data": {
      "text/plain": [
       "601"
      ]
     },
     "execution_count": 8,
     "metadata": {},
     "output_type": "execute_result"
    }
   ],
   "source": [
    "len(docs[0].page_content)"
   ]
  },
  {
   "cell_type": "code",
   "execution_count": 9,
   "id": "3d827096",
   "metadata": {},
   "outputs": [],
   "source": [
    "# import getpass\n",
    "# import os\n",
    "\n",
    "# if not os.environ.get(\"GOOGLE_API_KEY\"):\n",
    "#   os.environ[\"GOOGLE_API_KEY\"] = getpass.getpass(\"Enter API key for Google Gemini: \")\n",
    "\n",
    "# from langchain_google_genai import GoogleGenerativeAIEmbeddings\n",
    "\n",
    "# embeddings = GoogleGenerativeAIEmbeddings(model=\"models/gemini-embedding-001\")"
   ]
  },
  {
   "cell_type": "code",
   "execution_count": 10,
   "id": "34be56a1",
   "metadata": {},
   "outputs": [],
   "source": [
    "# pip install sentence-transformers"
   ]
  },
  {
   "cell_type": "code",
   "execution_count": 11,
   "id": "b7bbb621",
   "metadata": {},
   "outputs": [
    {
     "name": "stderr",
     "output_type": "stream",
     "text": [
      "INFO: Use pytorch device_name: cpu\n",
      "INFO: Load pretrained SentenceTransformer: sentence-transformers/all-mpnet-base-v2\n"
     ]
    }
   ],
   "source": [
    "from langchain_huggingface import HuggingFaceEmbeddings\n",
    "\n",
    "embeddings = HuggingFaceEmbeddings(model_name=\"sentence-transformers/all-mpnet-base-v2\")"
   ]
  },
  {
   "cell_type": "markdown",
   "id": "99a1f08b",
   "metadata": {},
   "source": [
    "### 768-dimensional vectors & train on 1 Billion sentence pairs"
   ]
  },
  {
   "cell_type": "code",
   "execution_count": 12,
   "id": "f10347d8",
   "metadata": {},
   "outputs": [
    {
     "name": "stderr",
     "output_type": "stream",
     "text": [
      "INFO: Loading faiss with AVX512 support.\n",
      "INFO: Successfully loaded faiss with AVX512 support.\n"
     ]
    }
   ],
   "source": [
    "import faiss\n",
    "from langchain_community.vectorstores import FAISS\n",
    "\n",
    "vector_store = FAISS.from_documents(docs, embedding=embeddings)\n",
    "vector_store.save_local(\"faiss_index\")"
   ]
  },
  {
   "cell_type": "markdown",
   "id": "cfa0a640",
   "metadata": {},
   "source": [
    "### very large dataset (many millions or more of vectors) and need speed, low latency, and good control over memory."
   ]
  },
  {
   "cell_type": "code",
   "execution_count": 13,
   "id": "21f4ea54",
   "metadata": {},
   "outputs": [],
   "source": [
    "# import getpass\n",
    "# import os\n",
    "\n",
    "# if not os.environ.get(\"GOOGLE_API_KEY\"):\n",
    "#   os.environ[\"GOOGLE_API_KEY\"] = ''\n",
    "\n",
    "# from langchain.chat_models import init_chat_model\n",
    "\n",
    "# model = init_chat_model(\"gemini-2.5-flash\", model_provider=\"google_genai\")"
   ]
  },
  {
   "cell_type": "code",
   "execution_count": 14,
   "id": "19e6b2fb",
   "metadata": {},
   "outputs": [],
   "source": [
    "# pip install -q -U google-genai"
   ]
  },
  {
   "cell_type": "code",
   "execution_count": 15,
   "id": "e43fa74c",
   "metadata": {},
   "outputs": [],
   "source": [
    "# from google import genai\n",
    "\n",
    "# # The client gets the API key from the environment variable `GEMINI_API_KEY`.\n",
    "# client = genai.Client(api_key='')\n",
    "\n",
    "# response = client.models.generate_content(\n",
    "#     model=\"gemini-2.5-flash\", contents=\"write a one liner on joke windows 11 os \"\n",
    "# )\n",
    "# print(response.text)"
   ]
  },
  {
   "cell_type": "code",
   "execution_count": 16,
   "id": "4b9e0a0a",
   "metadata": {},
   "outputs": [],
   "source": [
    "from langchain_groq import ChatGroq\n",
    "\n",
    "llm = ChatGroq(\n",
    "    model=\"openai/gpt-oss-120b\",\n",
    "    temperature=0,\n",
    "    max_tokens=None,\n",
    "    reasoning_format=\"parsed\",\n",
    "    timeout=None,\n",
    "    max_retries=2,\n",
    "    api_key=''\n",
    "    # other params...\n",
    ")"
   ]
  },
  {
   "cell_type": "code",
   "execution_count": 17,
   "id": "7c42f332",
   "metadata": {},
   "outputs": [],
   "source": [
    "vector_store_local = FAISS.load_local(\"faiss_index\", embeddings, allow_dangerous_deserialization=True)"
   ]
  },
  {
   "cell_type": "code",
   "execution_count": 18,
   "id": "fac479ce",
   "metadata": {},
   "outputs": [],
   "source": [
    "user_question='what is diabetes'"
   ]
  },
  {
   "cell_type": "code",
   "execution_count": 19,
   "id": "a796cd17",
   "metadata": {},
   "outputs": [
    {
     "data": {
      "text/plain": [
       "[Document(id='7f3e5618-ae5c-4393-bde9-6cdd900a0347', metadata={'source': 'documents/What Is Diabetes_ - NIDDK.pdf', 'file_directory': 'documents', 'filename': 'What Is Diabetes_ - NIDDK.pdf', 'last_modified': '2025-10-01T16:31:32', 'page_number': 1, 'orig_elements': 'eJzVWF2L4zYU/Ssiz5FX35bmpS8L7VBYCl0oZbsM+rhOzDhWsJ3dDUv/e6/szDQzG0rnJZA8BJ+rK9vSOffoJp++r6CDHfTTQ5tWd2SlWGJN4jV1wiiqko7UR9HQOgRXcwaN8vVqTVY7mHzyk8c531cx5yG1vZ9gnHHnj/kwPWyh3WwnjFjFK8edszjxNPa1TdMWh7RTldPOGRza57afyh0+fRKqYmvCTaU+r8kJ4feMnK3EazRnIlyNx3GCXVnJb+036H7f+wirv3GgaTt4SO0AccrDsSSkHA9l5ePqNNz7HZSBP7Z+Ivcjed/6ALimB0LJh/v373+t9qlZzWsYp4ddTm3TwrxrgglNOaOMf+TmTvI7KUre3m/goT/sAgyYxctrTPCt7MhKsnfMvSvzcCn8jtuSPx338wv8Aj7hFMx/TY8X+NFMU1cbTVUESW1ygjLmhUsMBI/hGvQ4U5kzfhb4RIliorI/wJuj6PUzfnp6xv+jiillah8iFYI1FK8VtUYyZI55E4wK0DRXoWquD2Eru1A1Q80rOUMhKn4Bz+k3TdY5SR/bqYNLHNUxaAMiUasbT9HagFolAzXW6uCi91LB9Tgyz+U0w9pUrkBtdOUuYHNrBfV0b9KOxJPUjuBHIFN5co7xMIzk6xZ6gjs2kNDlnMimO8Q8wpr4bswk+q6DdBoaDxs/rMutppzJFve+Ij8v6Rg8Z/+DHwY/tV/gY3mPS5UqXMBCtZSpYKjiylMfmKLBpVpIpjkocT0VWF3xMxU4XZmZdY10X8Bz+i2pYKE3p+NfB8G4G8nOtz0ZMRqB5IZAD8PmWJE/n/KQ9x6THuFfOYTD9ARO0sg71FUz5B3qCUiDCnmTBEytQ61SpJC0o0qDpU56RaUPvmbWO2+uZwSCyaXST5CfDlLjCuOv4Zx8YwIg4KfqTQQ53TAr6kBTMJEqKQwNCgkKPnJjjS3H6fUIki8JUidGijOrC1jeGkX3/XjosCpno97mYZd7wBJMQMJxLrC97+OA9r249xa6/fhckBuYCG5YXow8QtcVjyYByGFE+27y8Fzj982bRACWOSusp0JziUbtLQ0RT28fNYYbmZzm1xOBFosTn6CRi29rLcvx/AOe029JBKVOt/4L4Em9PGRNnr2bpAxjvzj4tJgz9Pmw2c4hhRT7fjF41S5aWhMMvph1KCf1SWj7Ie9h6I5vMwVRJ1Aq1NSGIKgC7LOdjAlNwTQaW7eQ9FV+rC4CqPl5+yYsXzxCKnMRz+m3pIen7moqTdo4+SM2ci+6Nd+nlwyjQ8TtmQ28kd3IJcha0KiCKuxG6iJvKEaZMtihMRGvxq5k7LzaJeen6lay/DfxA57Tb4nd5+Z88NiYj7PLD+34OPt18jucWVy8hOFYvOCxTT0c8QK9/EsJFPq34IepIi86/dKfYY0/ovdP+T8U8PkfFc2I9w==', 'languages': ['eng'], 'filetype': 'application/pdf', 'category': 'CompositeElement', 'element_id': 'a2d79f4ca0e344018c41420ecdda2cc3'}, page_content='30/09/2025, 21:18 What Is Diabetes? - NIDDK What Is Diabetes? Diabetes is a disease that occurs when your blood glucose, also called blood sugar, is too high. Glucose is your body’s main source of energy. Your body can make glucose, but glucose also comes from the food you eat. Insulin is a hormone made by the pancreas that helps glucose get into your cells to be used for energy. If you have diabetes, your body doesn’t make enough—or any—insulin, or doesn’t use insulin properly. Glucose then stays in your blood and doesn’t reach your cells. Diabetes raises the risk for damage to the eyes, kidneys, nerves, and heart. Diabetes is also linked to'),\n",
       " Document(id='bb671fc5-540b-4c16-8723-2a8e71697024', metadata={'source': 'documents/Diabetes_ What It Is, Causes, Symptoms, Treatment & Types.pdf', 'file_directory': 'documents', 'filename': 'Diabetes_ What It Is, Causes, Symptoms, Treatment & Types.pdf', 'last_modified': '2025-10-01T16:31:32', 'page_number': 2, 'orig_elements': 'eJzdV02L5DYQ/SuiD2EXRo4tyfqYSw4JJIEkBHYghM0ylKVSt1m3ZWz37jZL/ntK7p7Z+WgCfelDw8D0s8qy7Peq6tX7ryvscIv9fN+G1S1bmSC0s0JxExrPlVCSg0TNo3eVqEOwQsfVDVttcYYAM9A9X1c+pTG0Pcw4LbiDfdrN9xts15uZrlhVFa5yztKNx7XPbZg3tFQ7VbjaOU1LQ2r7Oe/w/r0QrjA3rNKF+nDDHqBQB6j0KbgEE15N+2nGbX6bP9sv2L0bwOPqX1qIbYf3oR3Rz2nc54CQ/C6//bQ6LvewxbzwUwsN0vvcs782MLNf6W+6YT/CbkL6/26/Hea0pV93I8Kcd2Dfsbv9gFMxhOUDdTDN99sU2tji8mVFKWpelbys7ip9K6tbKXLcAGu873fbBkeKEvmYM36Zn57h9twz5H1n+pE3+QUh0Na070uqQxmFC6HmEEFyVZXIIcSGa98AuDp63YgLUG3ror5hRhUic3lAVhXlwntdF/YVXGKviejfEMaeQUNfi80bZAS7PZvadT+xFFk4HrF4yusfMI4wt5/wLm9ygl6ofBOsDtyFqubKi4Y3aBzRq6WwxhnZuAvQq00mtBKyMJnCI1TmAEVti/IEXsKvieLlye30yOUPZ3HpLMpoAvJQAnIVnOfW6YYH08jalQqjgMtxqe0zLq08ZGctxEm8hF8Tlw9nyHwC86kP7dymnlKXTrSBYUDK288b7Bl91JE1XUqBTbs1jOzNutv5NOFbuvcsBdhYG93IyJ0pqViD9hxKp3ilMZRBo1ehuZwC3LFaH6AobVEfGK8L/Rofwq9JAXNKbEMfsciPD/gJuzQ8pXyA3tPjKd0TTv0/O1FWbmZb+Ei1vU+79Ya1/bTr2p6l8bxCUHllNdkzjWVF9kwgdwKAW0tWDbSyiHgxGYjKPS0EQh7btHKuqE7gJfyaZAD9ntGzoetuiMinKZ/CnjL8kfkRpyGXiX7N5nRo8THSSy7t/SiFs3RAfdJGWwMXlPxcaQG8aYThFQby7Q4NBn85Haj6WTmo3UP6y8Wmv8RL+DXpYBjTgGTZCvbYGuDI74Bp6DDTTCphtMVUsN/TNLOYxu0zd8dgxLM00BgZS23prAEiVwYEB2oRPHhfepBNE9TlDJ4w5bNaQD7+aAJMIU/gJfyaNOA3Y+pbz950baR20K/f3jDow0L7gWvil1pAT1tAQ5L43M4btsXQesjuYcrR35/ZDrRTUkgRuMQyS6B23EUouaXy4FBEBXCJaf3IudNPy4CsykPaV8bktH+JD+HXJIHM/DTviVu/gX79YmC7a+cOT5GoAtpQe8+FjYJqeYgcgOa20oKzTelF3VzO2kn5bFCTyj70cJlH71dYXtug9vPBoLM3i2F/Sxnb9jSM+7SlEh3HtGUexiZt9mGEZQY4tvyYTT6l8HmuviwRAGkyd4ry13vFwQQydjUxb9CJ6C8319Ek+Sx/jXxo23qh+iVewq+J+jC2/ccpe/qDb5u+mbmHC+vEycBNdNkvTR17HNfU9//+NuiRPMaWhHGc9M7SQy0h1lJrbqwhFYCpqRRUloo6muCMN16Hy+nBqmelgFz8kvqSfHx5Ai/h16QHYjp371ci8Nh1UzbydJjc2x9U8D9Uf/gPUXgevA==', 'languages': ['eng'], 'filetype': 'application/pdf', 'category': 'CompositeElement', 'element_id': '1638038ccdf596328baf620772a64324'}, page_content='Diabetes: What It Is, Causes, Symptoms, Treatment & Types Learn about the early signs of diabetes. What is diabetes? Diabetes is a condition that happens when your blood sugar (glucose) is too high. It develops when your pancreas doesn’t make enough insulin or any at all, or when your body isn’t responding to the effects of insulin properly. Diabetes affects people of all ages. Most forms of diabetes are chronic (lifelong), and all forms are manageable with medications and/or lifestyle changes. Glucose (sugar) mainly comes from carbohydrates in your food and drinks. It’s your body’s go-to source of energy. Your blood carries glucose to all your body’s cells to use for energy.')]"
      ]
     },
     "execution_count": 19,
     "metadata": {},
     "output_type": "execute_result"
    }
   ],
   "source": [
    "docs = vector_store_local.similarity_search(user_question,k=2)\n",
    "docs"
   ]
  },
  {
   "cell_type": "code",
   "execution_count": 20,
   "id": "d67dc7e7",
   "metadata": {},
   "outputs": [],
   "source": [
    "base_prompt = '''\n",
    "You are a helpful and knowledgeable healthcare chatbot. Your primary function is to provide accurate, general health information, answer common medical questions, and guide users to reliable health resources.\n",
    "Input during execution will include:\n",
    "{context}: Any relevant background information or previous conversation turns.\n",
    "{question}: The user's current specific query.\n",
    "Key Guidelines for your response to the user's {question} based on {context}:\n",
    "Informative & Clear: Provide concise, easy-to-understand explanations for medical concepts and symptoms.\n",
    "Encourage Professional Consultation: Always emphasize the importance of consulting a qualified healthcare professional (doctor, nurse, pharmacist) for personalized medical advice, diagnosis, and treatment. Explicitly state that you cannot provide medical diagnoses or prescribe treatments.\n",
    "No Specific Recommendations: Refrain from recommending specific medications, treatments, or dosages.\n",
    "Empathy & Support: Respond with a supportive and empathetic tone.\n",
    "Structure (as demonstrated in your examples):\n",
    "Example of JSON Output (for \"What are the symptoms of the flu?\"):\n",
    "{{\n",
    "  \"reply\": \"Common symptoms of the flu typically include fever, cough, sore throat, muscle aches, and fatigue. These symptoms can vary in intensity from person to person, and can often appear suddenly.\",\n",
    "  \"guidance_caution\": \"If you're experiencing these symptoms, especially if they are severe or worsen, it's highly recommended to consult with a healthcare professional for an accurate diagnosis and appropriate advice. They can help determine if it's the flu or another illness.\",\n",
    "  \"additional_resource_prompt\": \"Would you be interested in learning about general flu prevention methods?\"\n",
    "}}\n",
    "\n",
    "'''"
   ]
  },
  {
   "cell_type": "code",
   "execution_count": 21,
   "id": "73bc0b66",
   "metadata": {},
   "outputs": [],
   "source": [
    "from langchain_core.prompts import PromptTemplate\n",
    "from langchain_core.output_parsers import JsonOutputParser\n",
    "\n",
    "prompt = PromptTemplate(template=base_prompt, input_variables=[\"context\", \"question\"])"
   ]
  },
  {
   "cell_type": "code",
   "execution_count": 22,
   "id": "fb291ed6",
   "metadata": {},
   "outputs": [
    {
     "name": "stderr",
     "output_type": "stream",
     "text": [
      "INFO: HTTP Request: POST https://api.groq.com/openai/v1/chat/completions \"HTTP/1.1 200 OK\"\n"
     ]
    }
   ],
   "source": [
    "chain = prompt | llm | JsonOutputParser()\n",
    "response = chain.invoke({\"context\": docs, \"question\": user_question})"
   ]
  },
  {
   "cell_type": "code",
   "execution_count": 23,
   "id": "603f45b8",
   "metadata": {},
   "outputs": [
    {
     "name": "stdout",
     "output_type": "stream",
     "text": [
      "{'reply': 'Diabetes is a chronic condition in which the level of glucose (sugar) in the blood becomes too high. Glucose is the body’s main source of energy and comes from the foods you eat, especially carbohydrates. The hormone insulin – produced by the pancreas – normally helps move glucose from the bloodstream into cells where it can be used for energy. In diabetes, the pancreas either doesn’t make enough insulin, makes none at all, or the body’s cells don’t respond properly to the insulin that is present. As a result, glucose stays in the blood instead of reaching the cells, leading to elevated blood‑sugar levels. Over time, high blood sugar can increase the risk of complications affecting the eyes, kidneys, nerves, heart, and blood vessels.', 'guidance_caution': 'While this overview explains what diabetes is, it does not replace a professional medical evaluation. If you suspect you have diabetes, notice symptoms such as frequent urination, excessive thirst, unexplained weight loss, or fatigue, please schedule an appointment with a qualified healthcare provider for proper testing, diagnosis, and personalized guidance.', 'additional_resource_prompt': 'Would you like more information about common signs and symptoms of diabetes, ways to monitor blood sugar, or general lifestyle approaches that help manage the condition?'}\n"
     ]
    }
   ],
   "source": [
    "print(response)"
   ]
  },
  {
   "cell_type": "code",
   "execution_count": null,
   "id": "c3df628f",
   "metadata": {},
   "outputs": [],
   "source": []
  }
 ],
 "metadata": {
  "kernelspec": {
   "display_name": "chatbot (3.13.5)",
   "language": "python",
   "name": "python3"
  },
  "language_info": {
   "codemirror_mode": {
    "name": "ipython",
    "version": 3
   },
   "file_extension": ".py",
   "mimetype": "text/x-python",
   "name": "python",
   "nbconvert_exporter": "python",
   "pygments_lexer": "ipython3",
   "version": "3.13.5"
  }
 },
 "nbformat": 4,
 "nbformat_minor": 5
}
